{
 "cells": [
  {
   "cell_type": "markdown",
   "metadata": {},
   "source": [
    "# U.S. Medical Insurance Costs"
   ]
  },
  {
   "cell_type": "code",
   "execution_count": 172,
   "metadata": {},
   "outputs": [],
   "source": [
    "#Tasks\n",
    "#1 What's the average age of a patient?\n",
    "#2 What's the average BMI of a patient?\n",
    "#3 What's the average cost of insurance of a patient?\n",
    "#4 What share of patients is female/male?\n",
    "#5 What share of patients is smoker/non-smoker?\n",
    "#6 How many patients live in each region and where do most patients live?\n",
    "#7 What's the average cost of insurance depending on smoker status?\n",
    "#8 What's the average cost of insurance per age group?\n"
   ]
  },
  {
   "cell_type": "code",
   "execution_count": 173,
   "metadata": {},
   "outputs": [],
   "source": [
    "#Import csv\n",
    "import csv"
   ]
  },
  {
   "cell_type": "code",
   "execution_count": 174,
   "metadata": {},
   "outputs": [],
   "source": [
    "#Open the file and save column data in variables (lists)\n",
    "\n",
    "ages = []\n",
    "sexes = []\n",
    "bmis = []\n",
    "num_children = []\n",
    "smoker_status = []\n",
    "regions = []\n",
    "insurance_costs = []\n",
    "\n",
    "with open(\"insurance.csv\") as insurance_data:\n",
    "    insurance_dict = csv.DictReader(insurance_data)\n",
    "    for col in insurance_dict:\n",
    "        ages.append(col[\"age\"])\n",
    "        sexes.append(col[\"sex\"])\n",
    "        bmis.append(col[\"bmi\"])\n",
    "        num_children.append(col[\"children\"])\n",
    "        smoker_status.append(col[\"smoker\"])\n",
    "        regions.append(col[\"region\"])\n",
    "        insurance_costs.append(col[\"charges\"])\n",
    "\n"
   ]
  },
  {
   "cell_type": "code",
   "execution_count": 175,
   "metadata": {},
   "outputs": [],
   "source": [
    "#1 What's the average age of a patient?\n",
    "\n",
    "def calculate_age(list):\n",
    "    total_age = 0\n",
    "    for age in ages:\n",
    "        total_age += int(age)\n",
    "    average_age = total_age / len(ages)\n",
    "    print(\"The average age of a patient is \" + str(round(average_age, 2)) + \" years.\")"
   ]
  },
  {
   "cell_type": "code",
   "execution_count": 176,
   "metadata": {},
   "outputs": [
    {
     "name": "stdout",
     "output_type": "stream",
     "text": [
      "The average age of a patient is 39.21 years.\n"
     ]
    }
   ],
   "source": [
    "calculate_age(ages)"
   ]
  },
  {
   "cell_type": "code",
   "execution_count": 177,
   "metadata": {},
   "outputs": [],
   "source": [
    "#2 What's the average BMI of a patient?\n",
    "\n",
    "def calculate_bmi(list):\n",
    "    total_bmi = 0\n",
    "    for bmi in bmis:\n",
    "        total_bmi += float(bmi)\n",
    "    average_bmi = total_bmi / len(bmis)\n",
    "    print(\"The average bmi of a patient is \" + str(round(average_bmi, 2)) + \".\")"
   ]
  },
  {
   "cell_type": "code",
   "execution_count": 178,
   "metadata": {},
   "outputs": [
    {
     "name": "stdout",
     "output_type": "stream",
     "text": [
      "The average bmi of a patient is 30.66.\n"
     ]
    }
   ],
   "source": [
    "calculate_bmi(bmis)"
   ]
  },
  {
   "cell_type": "code",
   "execution_count": 179,
   "metadata": {},
   "outputs": [],
   "source": [
    "#3 What's the average cost of insurance of a patient?\n",
    "\n",
    "def calculate_insurance_cost(list):\n",
    "    total_insurance_cost = 0\n",
    "    for cost in insurance_costs:\n",
    "        total_insurance_cost += float(cost)\n",
    "    average_insurance_cost = total_insurance_cost / len(insurance_costs)\n",
    "    print(\"The average insurance cost of a patient is \" + str(round(average_insurance_cost, 2)) + \" dollars.\")"
   ]
  },
  {
   "cell_type": "code",
   "execution_count": 180,
   "metadata": {},
   "outputs": [
    {
     "name": "stdout",
     "output_type": "stream",
     "text": [
      "The average insurance cost of a patient is 13270.42 dollars.\n"
     ]
    }
   ],
   "source": [
    "calculate_insurance_cost(insurance_costs)"
   ]
  },
  {
   "cell_type": "code",
   "execution_count": 181,
   "metadata": {},
   "outputs": [],
   "source": [
    "#4 What share of patients is female/male?\n",
    "\n",
    "def gender_share(list):\n",
    "    female_counter = 0\n",
    "    male_counter = 0\n",
    "    for gender in sexes:\n",
    "        if gender == \"female\":\n",
    "            female_counter += 1\n",
    "        else:\n",
    "            male_counter += 1\n",
    "    female_share = female_counter / len(sexes) * 100\n",
    "    male_share = male_counter / len(sexes) * 100\n",
    "    print(str(round(female_share, 2)) + \"% of all patients are female. \" + \"\\n\" + str(round(male_share, 2)) + \"% of all patients are male.\")"
   ]
  },
  {
   "cell_type": "code",
   "execution_count": 182,
   "metadata": {},
   "outputs": [
    {
     "name": "stdout",
     "output_type": "stream",
     "text": [
      "49.48% of all patients are female. \n",
      "50.52% of all patients are male.\n"
     ]
    }
   ],
   "source": [
    "gender_share(sexes)"
   ]
  },
  {
   "cell_type": "code",
   "execution_count": 183,
   "metadata": {},
   "outputs": [],
   "source": [
    "#5 What share of patients is smoker/non-smoker?\n",
    "\n",
    "def smoker_status_share(list):\n",
    "    smoker_counter = 0\n",
    "    non_smoker_counter = 0\n",
    "    for smoker in smoker_status:\n",
    "        if smoker == \"yes\":\n",
    "            smoker_counter += 1\n",
    "        else:\n",
    "            non_smoker_counter += 1\n",
    "    smoker_share = smoker_counter / len(smoker_status) * 100\n",
    "    non_smoker_share = non_smoker_counter / len(smoker_status) * 100\n",
    "    print(str(round(smoker_share, 2)) + \"% of all patients are smokers. \" + \"\\n\" + str(round(non_smoker_share, 2)) + \"% of all patients are Non-Smokers.\")"
   ]
  },
  {
   "cell_type": "code",
   "execution_count": 184,
   "metadata": {},
   "outputs": [
    {
     "name": "stdout",
     "output_type": "stream",
     "text": [
      "20.48% of all patients are smokers. \n",
      "79.52% of all patients are Non-Smokers.\n"
     ]
    }
   ],
   "source": [
    "smoker_status_share(smoker_status)"
   ]
  },
  {
   "cell_type": "code",
   "execution_count": 185,
   "metadata": {},
   "outputs": [],
   "source": [
    "#6 How many patients live in each region and where do most patients live?\n",
    "\n",
    "def patients_locations(list):\n",
    "    southeast = 0\n",
    "    southwest = 0\n",
    "    northeast = 0\n",
    "    northwest = 0\n",
    "    for patient in regions:\n",
    "        if patient == \"southeast\":\n",
    "            southeast += 1\n",
    "        elif patient == \"southwest\":\n",
    "            southwest += 1\n",
    "        elif patient == \"northeast\":\n",
    "            northeast += 1\n",
    "        else:\n",
    "            northwest += 1\n",
    "    print(str(southeast) + \" patients live in the southeast.\" + \"\\n\" + str(southwest) + \" patients live in the southwest.\" + \"\\n\"\n",
    "    + str(northeast) + \" patients live in the northeast.\" + \"\\n\" + str(northwest) + \" patients live in the northwest.\" + \"\\n\"\n",
    "    + \"Most of the people live in the southeast.\")"
   ]
  },
  {
   "cell_type": "code",
   "execution_count": 186,
   "metadata": {},
   "outputs": [
    {
     "name": "stdout",
     "output_type": "stream",
     "text": [
      "364 patients live in the southeast.\n",
      "325 patients live in the southwest.\n",
      "324 patients live in the northeast.\n",
      "325 patients live in the northwest.\n",
      "Most of the people live in the southeast.\n"
     ]
    }
   ],
   "source": [
    "patients_locations(regions)"
   ]
  },
  {
   "cell_type": "code",
   "execution_count": 187,
   "metadata": {},
   "outputs": [],
   "source": [
    "#7 What's the average cost of insurance depending on smoker status?\n",
    "\n",
    "zipped_cost_smoker_status = zip(smoker_status, insurance_costs)\n",
    "            \n",
    "def calculate_cost_smoker(zippedlist):\n",
    "    smoker_counter = 0\n",
    "    non_smoker_counter = 0\n",
    "    cost_smoker = 0\n",
    "    cost_non_smoker = 0\n",
    "    for patient in zipped_cost_smoker_status:\n",
    "        if patient[0] == \"yes\":\n",
    "            smoker_counter += 1\n",
    "        else:\n",
    "            non_smoker_counter += 1\n",
    "        \n",
    "        if patient[0] == \"yes\":\n",
    "            cost_smoker += float(patient[1])\n",
    "        else: \n",
    "            cost_non_smoker += float(patient[1])\n",
    "    avg_smoker_cost = cost_smoker / smoker_counter\n",
    "    avg_non_smoker_cost = cost_non_smoker / non_smoker_counter\n",
    "    print(\"The average cost for smokers is \" + str(round(avg_smoker_cost, 2)) + \" dollars.\" + \"\\n\"\n",
    "         + \"The average cost for non-smokers is \" + str(round(avg_non_smoker_cost, 2)) + \" dollars.\")\n"
   ]
  },
  {
   "cell_type": "code",
   "execution_count": 188,
   "metadata": {},
   "outputs": [
    {
     "name": "stdout",
     "output_type": "stream",
     "text": [
      "The average cost for smokers is 32050.23 dollars.\n",
      "The average cost for non-smokers is 8434.27 dollars.\n"
     ]
    }
   ],
   "source": [
    "calculate_cost_smoker(zipped_cost_smoker_status)"
   ]
  },
  {
   "cell_type": "code",
   "execution_count": 189,
   "metadata": {},
   "outputs": [],
   "source": [
    "#8 What's the average cost of insurance per age group?\n",
    "    # 11-20 = group1\n",
    "    # 21-30 = group2\n",
    "    # 31-40 = group3\n",
    "    # 41-50 = group4\n",
    "    # 51-60 = group5\n",
    "    # 61-70 = group6\n",
    "\n",
    "zipped_age_cost = zip(ages, insurance_costs)\n",
    "\n",
    "def calculate_age_cost(zipped_list):\n",
    "    group1 = 0\n",
    "    group2 = 0\n",
    "    group3 = 0\n",
    "    group4 = 0\n",
    "    group5 = 0\n",
    "    group6 = 0\n",
    "    cost1 = 0\n",
    "    cost2 = 0\n",
    "    cost3 = 0\n",
    "    cost4 = 0\n",
    "    cost5 = 0\n",
    "    cost6 = 0\n",
    "    for patient in zipped_age_cost:\n",
    "        if int(patient[0]) <= 20:\n",
    "            group1 += 1\n",
    "        elif int(patient[0]) <= 30:\n",
    "            group2 += 1\n",
    "        elif int(patient[0]) <= 40:\n",
    "            group3 += 1\n",
    "        elif int(patient[0]) <= 50:\n",
    "            group4 += 1\n",
    "        elif int(patient[0]) <= 60:\n",
    "            group5 += 1\n",
    "        else:\n",
    "            group6 += 1\n",
    "        \n",
    "        if int(patient[0]) <= 20:\n",
    "            cost1 += float(patient[1])\n",
    "        elif int(patient[0]) <= 30:\n",
    "            cost2 += float(patient[1])\n",
    "        elif int(patient[0]) <= 40:\n",
    "            cost3 += float(patient[1])\n",
    "        elif int(patient[0]) <= 50:\n",
    "            cost4 += float(patient[1])\n",
    "        elif int(patient[0]) <= 60:\n",
    "            cost5 += float(patient[1])\n",
    "        else:\n",
    "            cost6 += float(patient[1])\n",
    "            \n",
    "    avg_cost_group1 = cost1 / group1\n",
    "    avg_cost_group2 = cost2 / group2\n",
    "    avg_cost_group3 = cost3 / group3\n",
    "    avg_cost_group4 = cost4 / group4\n",
    "    avg_cost_group5 = cost5 / group5\n",
    "    avg_cost_group6 = cost6 / group6\n",
    "        \n",
    "    print(\"The average cost for patients between 11-20 is \" + str(round(avg_cost_group1, 2)) + \" dollars.\" + \"\\n\" +\n",
    "     \"The average cost for patients between 21-30 is \" + str(round(avg_cost_group2, 2)) + \" dollars.\" + \"\\n\" +\n",
    "     \"The average cost for patients between 31-40 is \" + str(round(avg_cost_group3, 2)) + \" dollars.\" + \"\\n\" +\n",
    "     \"The average cost for patients between 41-50 is \" + str(round(avg_cost_group4, 2)) + \" dollars.\" + \"\\n\" +\n",
    "     \"The average cost for patients between 51-60 is \" + str(round(avg_cost_group5, 2)) + \" dollars.\" + \"\\n\" +\n",
    "     \"The average cost for patients between 61-70 is \" + str(round(avg_cost_group5, 2)) + \" dollars.\" + \"\\n\")"
   ]
  },
  {
   "cell_type": "code",
   "execution_count": 190,
   "metadata": {},
   "outputs": [
    {
     "name": "stdout",
     "output_type": "stream",
     "text": [
      "The average cost for patients between 11-20 is 8713.48 dollars.\n",
      "The average cost for patients between 21-30 is 9806.03 dollars.\n",
      "The average cost for patients between 31-40 is 11639.31 dollars.\n",
      "The average cost for patients between 41-50 is 14782.04 dollars.\n",
      "The average cost for patients between 51-60 is 17062.29 dollars.\n",
      "The average cost for patients between 61-70 is 17062.29 dollars.\n",
      "\n"
     ]
    }
   ],
   "source": [
    "calculate_age_cost(zipped_age_cost)"
   ]
  },
  {
   "cell_type": "code",
   "execution_count": null,
   "metadata": {},
   "outputs": [],
   "source": []
  }
 ],
 "metadata": {
  "kernelspec": {
   "display_name": "Python 3",
   "language": "python",
   "name": "python3"
  },
  "language_info": {
   "codemirror_mode": {
    "name": "ipython",
    "version": 3
   },
   "file_extension": ".py",
   "mimetype": "text/x-python",
   "name": "python",
   "nbconvert_exporter": "python",
   "pygments_lexer": "ipython3",
   "version": "3.8.5"
  }
 },
 "nbformat": 4,
 "nbformat_minor": 4
}
